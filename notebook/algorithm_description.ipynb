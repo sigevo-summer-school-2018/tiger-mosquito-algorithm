{
 "cells": [
  {
   "cell_type": "markdown",
   "metadata": {},
   "source": [
    "# The tiger mosquito selection algorithm\n",
    "\n",
    "This is an algorithm inspired by the mechanisms used to mitigate the tiger mosquito (and other insects) plagues."
   ]
  },
  {
   "cell_type": "markdown",
   "metadata": {},
   "source": [
    "## 0. Notation\n",
    "\n",
    "- $\\Omega :$ the target space depending on the problem (i.e. $\\Omega = \\{0,1\\}^{d}$ : $d$-diminsional binary optimization problem) \n",
    "- $x \\in \\Omega$: Individual\n",
    "- $f: \\Omega \\rightarrow \\mathbb{R} :$ the objective function\n",
    "- $p: \\Omega \\rightarrow \\mathbb{R} :$ the function to get the pheromone corresponding to the individual $x$\n",
    "- $X = \\{ x_{1}, \\dots, x_{\\lambda} \\} :$ the (inifinite) set of individuals\n",
    "- $P = \\{ p(x_{1}), \\dots, p(x_{\\lambda}) \\} :$ the set of pheromon values "
   ]
  },
  {
   "cell_type": "markdown",
   "metadata": {},
   "source": [
    "## 1 General description\n",
    "\n",
    "A new evolutionary algorithm inspired from the tiger mosquito plague fighting techniques. The only things that change is the selection mechanism, which uses a *pheromone* to represent the direction in which search should go.\n",
    "\n",
    "An algorithm that removes mosquitoes that carry dengue virus, zykova virus, yellow fever virus. You will choose a pheromone to eliminate mosquitoes, a good pheromone and a bad pheromone to make a pheromone that attracts tiger mosquitoes."
   ]
  },
  {
   "cell_type": "markdown",
   "metadata": {},
   "source": [
    "## 2 Pheromone update mechanism\n",
    "\n",
    "We propose two different update of the pheromone value $p(x)$ of each individual $x_{i}$. First, we can treat pheromones as a population behavior. According to this concept, all individuals belonging to the population are subject to pheromone update. In contrast, there is also the opinion that the pheromone of individual change is limited to the child generation. We propose update formula corresponding to the ideas, respectively. \n",
    "\n",
    "###  2.1 Update rule based on the whole inheritance \n",
    "When $\\lambda$ individuals ($x_{1}, \\dots, x_{\\lambda}$) are selected by the selection scheme such as the tournament selection, the phoromone of selected inidividual $p(x_{i})$ is updated by $$ \\begin{equation*} p(x_{i}) = p(x_{i}) + C \\end{equation*}, $$ where $C \\enspace (C \\in \\mathbb{R}), $ is a constant value and represent the update amount of pheromone. Additionary, the pheromone of parents $\\mathrm{Parents}(x_i)$ is also updated by $$ \\begin{equation*} p(\\mathrm{Parents}(x_i)) = p(\\mathrm{Parents}(x_i)) + Q^{h} p(x_i)\\end{equation*}, $$ where $Q \\enspace (0 \\leq Q \\leq 1)$  is coffactor and $h$ is an integer value indicating how many generations are away from the child individual $x_i$. \n",
    "\n",
    "The pseudocode is written as:\n",
    "```python\n",
    "if x_i_selected:\n",
    "  p(x_i) += constant_value\n",
    "  p(parents[x_i]) += (Q ** h) * P(x_i)\n",
    "```\n",
    "\n",
    "### 2.2 Update rule based on their children\n",
    "When updating the pheromones of child individuals, we consider to the number of child individuals. The update formula of the child individual is modified as $$ \\begin{equation*} p(x_{i}) = p(x_{i}) + C + Q \\lambda  \\end{equation*}.$$\n",
    "\n",
    "The pseudocode is written as:\n",
    "```python\n",
    "if x_i selected:\n",
    "  P(x_i) += constant_value + k * size(childrens)\n",
    "```"
   ]
  },
  {
   "cell_type": "markdown",
   "metadata": {},
   "source": [
    "## 3 Stochastic tournament selection mechanism\n",
    "\n",
    "We propose the new selection scheme that the individual is given the score stochastically. Our proposed selection scheme in which either fitness or pheromone is stochastically chosen as the score for each individual. In addition, the selection probability varies with iterarion. The property of our proposed selection scheme is written as below. \n",
    "\n",
    "---\n",
    "\n",
    "* Input: The tournament size $N_{\\mathrm{tournament}}$, the set of candidate solutions $X = \\{ x_1, x_2, \\dots , x_N \\}$, the objective function $f: \\Omega \\rightarrow \\mathbb{R}$, the set of pheromone of candidate solutions $P = \\{p(x_1), p(x_2), ..., p(x_N)\\}$ and the selection rate function $\\mathrm{sr}(t)$ dependent on the iteration $t$ such that $\\mathrm{sr}(0) = 1$.\n",
    "\n",
    "* Output: the selected solutions $x^{*}$\n",
    "\n",
    "\n",
    "1.\tThe random value $r$ is sampled from the uniform distribution (Another expression: $r \\sim U(0,1)$ ).\n",
    "2.\tSelect the $N_{\\mathrm{tournament}}$ solutions in $X$ at random.\n",
    "3.\tIf $r \\leq \\mathrm{sr}(t)$, the best candidate solution is set as $x^{*} = \\max_{x \\in X} \\{ f(x_1), f(x_2), \\dots, f(x_{N_{\\mathrm{tournament}}}) \\}$ ,\n",
    "otherwise, the best candidate solution is set as $x^{*} = \\max_{x \\in X} \\{ p(x_1), p(x_2), \\dots, p(x_{N_{\\mathrm{tournament}}}) $ .\n",
    "4.\tReturn the best solution $x^{*}$\n",
    "\n",
    "---\n",
    "\n",
    "Note that the selection rate $\\mathrm{st}(t)$ is notated the probability that the fitness is selected as the score of the individual. So, $1 - \\mathrm{st}(t)$ is represent the probability that the pheromon value is selected as the inidividual score. In experiments, we will try to use the $\\mathrm{st}(t) = 1.0 - t / t_{\\max}$ where $t_{\\max}$ means the maximum value of iteration. But, the definition of $\\mathrm{st}(t)$ is optional.\n",
    "\n",
    "The difference points from the conventional tournament selection are as follows:\n",
    "- First, we introduced the `pheromone` value as the score of individuals.\n",
    "- Second, the score of individuals is select either `fitness` or `pheromone` stochastically.\n",
    "- Finally, the probabily of the score "
   ]
  },
  {
   "cell_type": "markdown",
   "metadata": {},
   "source": [
    "## 4 Pheromone inheritance mechanism\n",
    "Three possible mechanisms:\n",
    "1. Fixed pheromone value: Everyone gets a initial value, so new children don't have any advantage depending on their parents performance.\n",
    "2. Random pheromone value\n",
    "3. Based on parents value: Could be a function of the parents pheromone, giving and advantage depending on the parents, with the idea that better parents derives in even better children: $a  \\mathrm{Parent}_1 + (1 - a) \\mathrm{parent}_2, 0 \\leq a \\leq 1$. $a$ can be a fixed value as $a = 0.5$ or random generated\n",
    "4. Base pheromone value could be some statistics  population, as the average, value.\n",
    "5. Even better of the current population: $b \\cdot \\mathrm{pheromone}, b > 1$ and $\\mathrm{pheromone}$ are one of the calculated pheromone by the methods 1 or 2."
   ]
  },
  {
   "cell_type": "markdown",
   "metadata": {},
   "source": [
    "## 5 Fitness fucntion\n",
    "\n",
    "We will try several fitness functions with this problem.\n",
    "\n",
    "### 5.1 One-max\n",
    "$$ f(x) = \\sum_{i} x_{i}$$\n",
    "\n",
    "We will use one-max as a fitness function. Mosquitoes are attracted to certain genes of pheromones, so we use one-max to approximate them. The optimal solution of one-max is that all data of 0,1 are all 1s.\n",
    "\n",
    "```\n",
    "length of the chromosome = N\n",
    "fitnessVal = 0\n",
    "for i in range N:\n",
    "    fitnessVal += chromosome[i]\n",
    "return fitnessVal\n",
    "```\n",
    "\n",
    "### 5.2 NK problem\n",
    "\n",
    "The NK problem is that each factor has mutual influence. The next door method was used. The next door method is to evaluate fitness by the values of adjacent parameters. The code is shown below.\n",
    "\n",
    "```python\n",
    "def fitness(chromosome,n,k):\n",
    "    \"\"\"\n",
    "    :param chromosome : A chromosome of 0 and 1\n",
    "    :n, k : nk problem parameter\n",
    "    global NK_landscape\n",
    "    :NK_landscape is a matrix that stores fitness values.\n",
    "    \"\"\"\n",
    "    if NK_landscape is None:\n",
    "        NK_landscape = np.random.rand(n, 2**k)\n",
    "\n",
    "    temp_list = []\n",
    "    for i in range(n):\n",
    "        temp_str = \"\"\n",
    "        for j in range(k):\n",
    "            temp_str += str(chromosome[(i+j) % n])\n",
    "        temp_list.append(int(temp_str, 2))\n",
    "    fitness_val = 0\n",
    "    for i in range(n):\n",
    "        fitness_val += NK_landscape[i][temp_list[i]]\n",
    "\n",
    "    return fitness_val\n",
    "```\n"
   ]
  }
 ],
 "metadata": {
  "kernelspec": {
   "display_name": "Python 3",
   "language": "python",
   "name": "python3"
  },
  "language_info": {
   "codemirror_mode": {
    "name": "ipython",
    "version": 3
   },
   "file_extension": ".py",
   "mimetype": "text/x-python",
   "name": "python",
   "nbconvert_exporter": "python",
   "pygments_lexer": "ipython3",
   "version": "3.6.4"
  }
 },
 "nbformat": 4,
 "nbformat_minor": 2
}
